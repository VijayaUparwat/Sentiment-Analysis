{
 "cells": [
  {
   "cell_type": "code",
   "execution_count": 1,
   "metadata": {},
   "outputs": [],
   "source": [
    "import tweepy\n",
    "from textblob import TextBlob \n",
    "from wordcloud import WordCloud\n",
    "import re"
   ]
  },
  {
   "cell_type": "code",
   "execution_count": 2,
   "metadata": {},
   "outputs": [],
   "source": [
    "import pandas as pd\n",
    "import numpy as np\n",
    "import matplotlib.pyplot as plt"
   ]
  },
  {
   "cell_type": "code",
   "execution_count": 3,
   "metadata": {},
   "outputs": [],
   "source": [
    "consumerKey = 'XXXXXXXXXXXX' \n",
    "consumerSecret = 'XXXXXXXXXXXXXXXXXXXXXXXXXXXXXX'\n",
    "accessToken = 'XXXXXXXXXXXXXXXXXXXXXXXXXXXXXXXXXXXXXXXXXXXXXXXXX'\n",
    "accesTokenSecret = 'XXXXXXXXXXXXXXXXXXXXXXXXXXXXXXXXXXXXXXXXXXXX'"
   ]
  },
  {
   "cell_type": "code",
   "execution_count": 4,
   "metadata": {},
   "outputs": [],
   "source": [
    "##create the authentication object"
   ]
  },
  {
   "cell_type": "code",
   "execution_count": 5,
   "metadata": {},
   "outputs": [],
   "source": [
    "auth = tweepy.OAuthHandler(consumerKey,consumerSecret)\n",
    "auth.set_access_token(accessToken, accesTokenSecret)\n",
    "api=tweepy.API(auth)"
   ]
  },
  {
   "cell_type": "code",
   "execution_count": 7,
   "metadata": {},
   "outputs": [],
   "source": [
    "posts = api.user_timeline(screen_name = 'SundarPichai', count = 100, lang = 'en', tweet_mode = 'extended')"
   ]
  },
  {
   "cell_type": "code",
   "execution_count": 8,
   "metadata": {},
   "outputs": [
    {
     "name": "stdout",
     "output_type": "stream",
     "text": [
      "Five recent tweets\n",
      "1 @DavidMalpassWBG Thanks @DavidMalpassWBG @WorldBank for an engaging conversation on addressing the barriers to digital connectivity in emerging countries. Proud to partner with you to help bring the benefits of technology to more people around the world.\n",
      "\n",
      "2 22 years in, we’re still focused on providing the most helpful Google Search experience powered by #GoogleAI - whether it’s giving better answers, finding key moments in videos, bringing useful information to AR in Maps, hum to search + more. #SearchOn \n",
      "\n",
      "https://t.co/f46ojjbyWg\n",
      "\n",
      "3 We're introducing Journalist Studio, a suite of tools to help reporters do their work more efficiently, including using #GoogleAI to help quickly sift through huge amounts of files, and a new way to explore and visualize data \n",
      "https://t.co/fG6fWvn7kO\n",
      "\n",
      "4 Such a nice moment, congrats to Paul Milgrom and Robert Wilson for their Nobel Prize! https://t.co/HeqffRWo5a\n",
      "\n",
      "5 Congrats to the 76 founders who will be receiving awards from the $5M @GoogleStartups Black Founders Fund. Great to chat with some of them last week - thank you for sharing your goals, challenges + insights!\n",
      "https://t.co/LGBc2LfMgd https://t.co/hzfsF9TDeo\n",
      "\n"
     ]
    }
   ],
   "source": [
    "print(\"Five recent tweets\")\n",
    "i=1\n",
    "for tweet in posts[0:5]:\n",
    "    #print (tweet.full_text + '\\n')\n",
    "    print(str(i) + ' ' + tweet.full_text+'\\n')\n",
    "    i = i+1"
   ]
  },
  {
   "cell_type": "code",
   "execution_count": 9,
   "metadata": {},
   "outputs": [],
   "source": [
    "df = pd.DataFrame([tweet.full_text for tweet in posts], columns=['Tweets'])"
   ]
  },
  {
   "cell_type": "code",
   "execution_count": 10,
   "metadata": {},
   "outputs": [
    {
     "data": {
      "text/html": [
       "<div>\n",
       "<style scoped>\n",
       "    .dataframe tbody tr th:only-of-type {\n",
       "        vertical-align: middle;\n",
       "    }\n",
       "\n",
       "    .dataframe tbody tr th {\n",
       "        vertical-align: top;\n",
       "    }\n",
       "\n",
       "    .dataframe thead th {\n",
       "        text-align: right;\n",
       "    }\n",
       "</style>\n",
       "<table border=\"1\" class=\"dataframe\">\n",
       "  <thead>\n",
       "    <tr style=\"text-align: right;\">\n",
       "      <th></th>\n",
       "      <th>Tweets</th>\n",
       "    </tr>\n",
       "  </thead>\n",
       "  <tbody>\n",
       "    <tr>\n",
       "      <th>0</th>\n",
       "      <td>@DavidMalpassWBG Thanks @DavidMalpassWBG @Worl...</td>\n",
       "    </tr>\n",
       "    <tr>\n",
       "      <th>1</th>\n",
       "      <td>22 years in, we’re still focused on providing ...</td>\n",
       "    </tr>\n",
       "    <tr>\n",
       "      <th>2</th>\n",
       "      <td>We're introducing Journalist Studio, a suite o...</td>\n",
       "    </tr>\n",
       "    <tr>\n",
       "      <th>3</th>\n",
       "      <td>Such a nice moment, congrats to Paul Milgrom a...</td>\n",
       "    </tr>\n",
       "    <tr>\n",
       "      <th>4</th>\n",
       "      <td>Congrats to the 76 founders who will be receiv...</td>\n",
       "    </tr>\n",
       "  </tbody>\n",
       "</table>\n",
       "</div>"
      ],
      "text/plain": [
       "                                              Tweets\n",
       "0  @DavidMalpassWBG Thanks @DavidMalpassWBG @Worl...\n",
       "1  22 years in, we’re still focused on providing ...\n",
       "2  We're introducing Journalist Studio, a suite o...\n",
       "3  Such a nice moment, congrats to Paul Milgrom a...\n",
       "4  Congrats to the 76 founders who will be receiv..."
      ]
     },
     "execution_count": 10,
     "metadata": {},
     "output_type": "execute_result"
    }
   ],
   "source": [
    "df.head()"
   ]
  },
  {
   "cell_type": "code",
   "execution_count": 11,
   "metadata": {},
   "outputs": [],
   "source": [
    "#clean the data"
   ]
  },
  {
   "cell_type": "code",
   "execution_count": 12,
   "metadata": {},
   "outputs": [],
   "source": [
    "def cleanText(text):\n",
    "    text = re.sub(r'@[A-Za-z0-9]+', '', text)\n",
    "    text = re.sub(r'#', '', text)\n",
    "    text = re.sub(r'RT[\\s]+', '',text)\n",
    "    text = re.sub(r'https?:\\/\\/S+', '', text)  \n",
    "    return text"
   ]
  },
  {
   "cell_type": "code",
   "execution_count": 13,
   "metadata": {},
   "outputs": [],
   "source": [
    "df['Tweets']= df['Tweets'].apply(cleanText)"
   ]
  },
  {
   "cell_type": "code",
   "execution_count": 14,
   "metadata": {},
   "outputs": [
    {
     "data": {
      "text/html": [
       "<div>\n",
       "<style scoped>\n",
       "    .dataframe tbody tr th:only-of-type {\n",
       "        vertical-align: middle;\n",
       "    }\n",
       "\n",
       "    .dataframe tbody tr th {\n",
       "        vertical-align: top;\n",
       "    }\n",
       "\n",
       "    .dataframe thead th {\n",
       "        text-align: right;\n",
       "    }\n",
       "</style>\n",
       "<table border=\"1\" class=\"dataframe\">\n",
       "  <thead>\n",
       "    <tr style=\"text-align: right;\">\n",
       "      <th></th>\n",
       "      <th>Tweets</th>\n",
       "    </tr>\n",
       "  </thead>\n",
       "  <tbody>\n",
       "    <tr>\n",
       "      <th>0</th>\n",
       "      <td>Thanks   for an engaging conversation on addr...</td>\n",
       "    </tr>\n",
       "    <tr>\n",
       "      <th>1</th>\n",
       "      <td>22 years in, we’re still focused on providing ...</td>\n",
       "    </tr>\n",
       "    <tr>\n",
       "      <th>2</th>\n",
       "      <td>We're introducing Journalist Studio, a suite o...</td>\n",
       "    </tr>\n",
       "    <tr>\n",
       "      <th>3</th>\n",
       "      <td>Such a nice moment, congrats to Paul Milgrom a...</td>\n",
       "    </tr>\n",
       "    <tr>\n",
       "      <th>4</th>\n",
       "      <td>Congrats to the 76 founders who will be receiv...</td>\n",
       "    </tr>\n",
       "  </tbody>\n",
       "</table>\n",
       "</div>"
      ],
      "text/plain": [
       "                                              Tweets\n",
       "0   Thanks   for an engaging conversation on addr...\n",
       "1  22 years in, we’re still focused on providing ...\n",
       "2  We're introducing Journalist Studio, a suite o...\n",
       "3  Such a nice moment, congrats to Paul Milgrom a...\n",
       "4  Congrats to the 76 founders who will be receiv..."
      ]
     },
     "execution_count": 14,
     "metadata": {},
     "output_type": "execute_result"
    }
   ],
   "source": [
    "df.head()"
   ]
  },
  {
   "cell_type": "code",
   "execution_count": 15,
   "metadata": {},
   "outputs": [],
   "source": [
    "#Subjectivity & Creativity"
   ]
  },
  {
   "cell_type": "code",
   "execution_count": 16,
   "metadata": {},
   "outputs": [],
   "source": [
    "def getSubjectivty(text):\n",
    "    return TextBlob(text).sentiment.subjectivity\n",
    "def getPolarity(text):\n",
    "    return TextBlob(text).sentiment.polarity"
   ]
  },
  {
   "cell_type": "code",
   "execution_count": 17,
   "metadata": {},
   "outputs": [],
   "source": [
    "df['Subjectivity']= df['Tweets'].apply(getSubjectivty)\n",
    "df['Polarity']= df['Tweets'].apply(getPolarity)\n"
   ]
  },
  {
   "cell_type": "code",
   "execution_count": 18,
   "metadata": {},
   "outputs": [
    {
     "data": {
      "text/html": [
       "<div>\n",
       "<style scoped>\n",
       "    .dataframe tbody tr th:only-of-type {\n",
       "        vertical-align: middle;\n",
       "    }\n",
       "\n",
       "    .dataframe tbody tr th {\n",
       "        vertical-align: top;\n",
       "    }\n",
       "\n",
       "    .dataframe thead th {\n",
       "        text-align: right;\n",
       "    }\n",
       "</style>\n",
       "<table border=\"1\" class=\"dataframe\">\n",
       "  <thead>\n",
       "    <tr style=\"text-align: right;\">\n",
       "      <th></th>\n",
       "      <th>Tweets</th>\n",
       "      <th>Subjectivity</th>\n",
       "      <th>Polarity</th>\n",
       "    </tr>\n",
       "  </thead>\n",
       "  <tbody>\n",
       "    <tr>\n",
       "      <th>0</th>\n",
       "      <td>Thanks   for an engaging conversation on addr...</td>\n",
       "      <td>0.480000</td>\n",
       "      <td>0.380000</td>\n",
       "    </tr>\n",
       "    <tr>\n",
       "      <th>1</th>\n",
       "      <td>22 years in, we’re still focused on providing ...</td>\n",
       "      <td>0.500000</td>\n",
       "      <td>0.360000</td>\n",
       "    </tr>\n",
       "    <tr>\n",
       "      <th>2</th>\n",
       "      <td>We're introducing Journalist Studio, a suite o...</td>\n",
       "      <td>0.588636</td>\n",
       "      <td>0.342424</td>\n",
       "    </tr>\n",
       "    <tr>\n",
       "      <th>3</th>\n",
       "      <td>Such a nice moment, congrats to Paul Milgrom a...</td>\n",
       "      <td>0.750000</td>\n",
       "      <td>0.375000</td>\n",
       "    </tr>\n",
       "    <tr>\n",
       "      <th>4</th>\n",
       "      <td>Congrats to the 76 founders who will be receiv...</td>\n",
       "      <td>0.416667</td>\n",
       "      <td>0.211111</td>\n",
       "    </tr>\n",
       "    <tr>\n",
       "      <th>...</th>\n",
       "      <td>...</td>\n",
       "      <td>...</td>\n",
       "      <td>...</td>\n",
       "    </tr>\n",
       "    <tr>\n",
       "      <th>95</th>\n",
       "      <td>Today  is pledging another $50M to COVID19 res...</td>\n",
       "      <td>0.650000</td>\n",
       "      <td>0.400000</td>\n",
       "    </tr>\n",
       "    <tr>\n",
       "      <th>96</th>\n",
       "      <td>DearClassof2020: looking forward to celebratin...</td>\n",
       "      <td>0.000000</td>\n",
       "      <td>0.000000</td>\n",
       "    </tr>\n",
       "    <tr>\n",
       "      <th>97</th>\n",
       "      <td>: We've been helping to facilitate the product...</td>\n",
       "      <td>0.000000</td>\n",
       "      <td>0.000000</td>\n",
       "    </tr>\n",
       "    <tr>\n",
       "      <th>98</th>\n",
       "      <td>: More grateful than ever for the teachers in ...</td>\n",
       "      <td>0.750000</td>\n",
       "      <td>0.650000</td>\n",
       "    </tr>\n",
       "    <tr>\n",
       "      <th>99</th>\n",
       "      <td>Thank you to teachers everywhere working tirel...</td>\n",
       "      <td>0.833333</td>\n",
       "      <td>-0.388889</td>\n",
       "    </tr>\n",
       "  </tbody>\n",
       "</table>\n",
       "<p>100 rows × 3 columns</p>\n",
       "</div>"
      ],
      "text/plain": [
       "                                               Tweets  Subjectivity  Polarity\n",
       "0    Thanks   for an engaging conversation on addr...      0.480000  0.380000\n",
       "1   22 years in, we’re still focused on providing ...      0.500000  0.360000\n",
       "2   We're introducing Journalist Studio, a suite o...      0.588636  0.342424\n",
       "3   Such a nice moment, congrats to Paul Milgrom a...      0.750000  0.375000\n",
       "4   Congrats to the 76 founders who will be receiv...      0.416667  0.211111\n",
       "..                                                ...           ...       ...\n",
       "95  Today  is pledging another $50M to COVID19 res...      0.650000  0.400000\n",
       "96  DearClassof2020: looking forward to celebratin...      0.000000  0.000000\n",
       "97  : We've been helping to facilitate the product...      0.000000  0.000000\n",
       "98  : More grateful than ever for the teachers in ...      0.750000  0.650000\n",
       "99  Thank you to teachers everywhere working tirel...      0.833333 -0.388889\n",
       "\n",
       "[100 rows x 3 columns]"
      ]
     },
     "execution_count": 18,
     "metadata": {},
     "output_type": "execute_result"
    }
   ],
   "source": [
    "df"
   ]
  },
  {
   "cell_type": "code",
   "execution_count": 19,
   "metadata": {},
   "outputs": [],
   "source": [
    "##plot the word cloud"
   ]
  },
  {
   "cell_type": "code",
   "execution_count": 20,
   "metadata": {},
   "outputs": [],
   "source": [
    "allWords = ''.join([twts for twts in df['Tweets']])\n",
    "wordcloud= WordCloud(width = 500, height = 300, random_state= 21, max_font_size=100).generate(allWords)"
   ]
  },
  {
   "cell_type": "code",
   "execution_count": 21,
   "metadata": {},
   "outputs": [
    {
     "data": {
      "image/png": "[encoded data removed]",
      "text/plain": [
       "<Figure size 432x288 with 1 Axes>"
      ]
     },
     "metadata": {
      "needs_background": "light"
     },
     "output_type": "display_data"
    }
   ],
   "source": [
    "plt.imshow(wordcloud, interpolation ='bilinear')\n",
    "plt.axis('off')\n",
    "plt.show()"
   ]
  },
  {
   "cell_type": "code",
   "execution_count": 22,
   "metadata": {},
   "outputs": [],
   "source": [
    "#Analyzing +ve, -ve & neutral"
   ]
  },
  {
   "cell_type": "code",
   "execution_count": 23,
   "metadata": {},
   "outputs": [],
   "source": [
    "def getAnalysis(score):\n",
    "    if score < 0:\n",
    "        return 'Negative'\n",
    "    elif score == 0:\n",
    "        return 'Neutral'\n",
    "    else:\n",
    "        return 'Positive'"
   ]
  },
  {
   "cell_type": "code",
   "execution_count": 24,
   "metadata": {},
   "outputs": [],
   "source": [
    "df['Analysis'] = df['Polarity'].apply(getAnalysis)"
   ]
  },
  {
   "cell_type": "code",
   "execution_count": 25,
   "metadata": {},
   "outputs": [
    {
     "data": {
      "text/html": [
       "<div>\n",
       "<style scoped>\n",
       "    .dataframe tbody tr th:only-of-type {\n",
       "        vertical-align: middle;\n",
       "    }\n",
       "\n",
       "    .dataframe tbody tr th {\n",
       "        vertical-align: top;\n",
       "    }\n",
       "\n",
       "    .dataframe thead th {\n",
       "        text-align: right;\n",
       "    }\n",
       "</style>\n",
       "<table border=\"1\" class=\"dataframe\">\n",
       "  <thead>\n",
       "    <tr style=\"text-align: right;\">\n",
       "      <th></th>\n",
       "      <th>Tweets</th>\n",
       "      <th>Subjectivity</th>\n",
       "      <th>Polarity</th>\n",
       "      <th>Analysis</th>\n",
       "    </tr>\n",
       "  </thead>\n",
       "  <tbody>\n",
       "    <tr>\n",
       "      <th>0</th>\n",
       "      <td>Thanks   for an engaging conversation on addr...</td>\n",
       "      <td>0.480000</td>\n",
       "      <td>0.380000</td>\n",
       "      <td>Positive</td>\n",
       "    </tr>\n",
       "    <tr>\n",
       "      <th>1</th>\n",
       "      <td>22 years in, we’re still focused on providing ...</td>\n",
       "      <td>0.500000</td>\n",
       "      <td>0.360000</td>\n",
       "      <td>Positive</td>\n",
       "    </tr>\n",
       "    <tr>\n",
       "      <th>2</th>\n",
       "      <td>We're introducing Journalist Studio, a suite o...</td>\n",
       "      <td>0.588636</td>\n",
       "      <td>0.342424</td>\n",
       "      <td>Positive</td>\n",
       "    </tr>\n",
       "    <tr>\n",
       "      <th>3</th>\n",
       "      <td>Such a nice moment, congrats to Paul Milgrom a...</td>\n",
       "      <td>0.750000</td>\n",
       "      <td>0.375000</td>\n",
       "      <td>Positive</td>\n",
       "    </tr>\n",
       "    <tr>\n",
       "      <th>4</th>\n",
       "      <td>Congrats to the 76 founders who will be receiv...</td>\n",
       "      <td>0.416667</td>\n",
       "      <td>0.211111</td>\n",
       "      <td>Positive</td>\n",
       "    </tr>\n",
       "    <tr>\n",
       "      <th>...</th>\n",
       "      <td>...</td>\n",
       "      <td>...</td>\n",
       "      <td>...</td>\n",
       "      <td>...</td>\n",
       "    </tr>\n",
       "    <tr>\n",
       "      <th>95</th>\n",
       "      <td>Today  is pledging another $50M to COVID19 res...</td>\n",
       "      <td>0.650000</td>\n",
       "      <td>0.400000</td>\n",
       "      <td>Positive</td>\n",
       "    </tr>\n",
       "    <tr>\n",
       "      <th>96</th>\n",
       "      <td>DearClassof2020: looking forward to celebratin...</td>\n",
       "      <td>0.000000</td>\n",
       "      <td>0.000000</td>\n",
       "      <td>Neutral</td>\n",
       "    </tr>\n",
       "    <tr>\n",
       "      <th>97</th>\n",
       "      <td>: We've been helping to facilitate the product...</td>\n",
       "      <td>0.000000</td>\n",
       "      <td>0.000000</td>\n",
       "      <td>Neutral</td>\n",
       "    </tr>\n",
       "    <tr>\n",
       "      <th>98</th>\n",
       "      <td>: More grateful than ever for the teachers in ...</td>\n",
       "      <td>0.750000</td>\n",
       "      <td>0.650000</td>\n",
       "      <td>Positive</td>\n",
       "    </tr>\n",
       "    <tr>\n",
       "      <th>99</th>\n",
       "      <td>Thank you to teachers everywhere working tirel...</td>\n",
       "      <td>0.833333</td>\n",
       "      <td>-0.388889</td>\n",
       "      <td>Negative</td>\n",
       "    </tr>\n",
       "  </tbody>\n",
       "</table>\n",
       "<p>100 rows × 4 columns</p>\n",
       "</div>"
      ],
      "text/plain": [
       "                                               Tweets  Subjectivity  Polarity  \\\n",
       "0    Thanks   for an engaging conversation on addr...      0.480000  0.380000   \n",
       "1   22 years in, we’re still focused on providing ...      0.500000  0.360000   \n",
       "2   We're introducing Journalist Studio, a suite o...      0.588636  0.342424   \n",
       "3   Such a nice moment, congrats to Paul Milgrom a...      0.750000  0.375000   \n",
       "4   Congrats to the 76 founders who will be receiv...      0.416667  0.211111   \n",
       "..                                                ...           ...       ...   \n",
       "95  Today  is pledging another $50M to COVID19 res...      0.650000  0.400000   \n",
       "96  DearClassof2020: looking forward to celebratin...      0.000000  0.000000   \n",
       "97  : We've been helping to facilitate the product...      0.000000  0.000000   \n",
       "98  : More grateful than ever for the teachers in ...      0.750000  0.650000   \n",
       "99  Thank you to teachers everywhere working tirel...      0.833333 -0.388889   \n",
       "\n",
       "    Analysis  \n",
       "0   Positive  \n",
       "1   Positive  \n",
       "2   Positive  \n",
       "3   Positive  \n",
       "4   Positive  \n",
       "..       ...  \n",
       "95  Positive  \n",
       "96   Neutral  \n",
       "97   Neutral  \n",
       "98  Positive  \n",
       "99  Negative  \n",
       "\n",
       "[100 rows x 4 columns]"
      ]
     },
     "execution_count": 25,
     "metadata": {},
     "output_type": "execute_result"
    }
   ],
   "source": [
    "df"
   ]
  },
  {
   "cell_type": "code",
   "execution_count": 26,
   "metadata": {},
   "outputs": [],
   "source": [
    "##Positive tweets"
   ]
  },
  {
   "cell_type": "code",
   "execution_count": 27,
   "metadata": {},
   "outputs": [
    {
     "name": "stdout",
     "output_type": "stream",
     "text": [
      "1)  Thanks   for an engaging conversation on addressing the barriers to digital connectivity in emerging countries. Proud to partner with you to help bring the benefits of technology to more people around the world.\n",
      "\n",
      "2) 22 years in, we’re still focused on providing the most helpful Google Search experience powered by GoogleAI - whether it’s giving better answers, finding key moments in videos, bringing useful information to AR in Maps, hum to search + more. SearchOn \n",
      "\n",
      "https://t.co/f46ojjbyWg\n",
      "\n",
      "3) We're introducing Journalist Studio, a suite of tools to help reporters do their work more efficiently, including using GoogleAI to help quickly sift through huge amounts of files, and a new way to explore and visualize data \n",
      "https://t.co/fG6fWvn7kO\n",
      "\n",
      "4) Such a nice moment, congrats to Paul Milgrom and Robert Wilson for their Nobel Prize! https://t.co/HeqffRWo5a\n",
      "\n",
      "5) Congrats to the 76 founders who will be receiving awards from the $5M  Black Founders Fund. Great to chat with some of them last week - thank you for sharing your goals, challenges + insights!\n",
      "https://t.co/LGBc2LfMgd https://t.co/hzfsF9TDeo\n",
      "\n",
      "6) Proud to announce our biggest commitment to the future of news yet: the launch of Google News Showcase - a new kind of news experience for publishers and readers - along with a $1 billion global investment in partnerships with publishers. \n",
      "https://t.co/zdCHuawyAp\n",
      "\n",
      "7) : Pixel 5\n",
      "\n",
      "6” Full HD OLED\n",
      "4080mAh battery\n",
      "128GB/8GB\n",
      "\n",
      "Holepunch camera cutout\n",
      "\n",
      "Fully recycled aluminum body\n",
      "Wireless charging (how…\n",
      "\n",
      "8) Today at our virtual LaunchNightIn, we introduced our newest lineup of helpful devices from across Google, including two new smartphones, Pixel 4a (5G) + Pixel 5, Chromecast with Google TV, and our latest smart speaker Nest Audio.\n",
      "\n",
      "https://t.co/ddDvhxHmql https://t.co/o2IRuL40uc\n",
      "\n",
      "9) Starting in mid-October, we’re making it free for retailers globally to list their products on the Shopping tab, helping merchants of all sizes connect with consumers around the world https://t.co/AtJzcfsWBF\n",
      "\n",
      "10) Thank you  for a great conversation - honored to be included among this year’s TIME100 https://t.co/xG03YA7mhx\n",
      "\n",
      "11) This week, we’re introducing the COVID layer in , a tool that shows critical information about COVID-19 cases in an area so you can make more informed decisions about where to go and what to do. https://t.co/7Esqnq0JO7\n",
      "\n",
      "12) : Great to see the CZU Complex fire  100% contained.  Thank you to all of the amazing firefighters and others who had a hand in…\n",
      "\n",
      "13) Saddened by the loss of one of our true heroes. Justice Ginsburg’s legacy will ensure that women will always have a seat at the table (and on our highest court) -- America is a better country because of her service.\n",
      "\n",
      "14) As we kick off HispanicHeritageMonth this week, we’re proud to support Latino-owned small businesses with new GrowWithGoogle \"Paso a Paso” workshops and other free online training programs, as well as a $3M  grant to 's PowerUpFund \n",
      "https://t.co/lIaaqbYxPS\n",
      "\n",
      "15) Today at _fest, we shared more about Google’s next decade of climate action, including 's €10M Impact Challenge which will fund bold ideas in support of Europe's goal to become the first carbon-neutral continent. https://t.co/F4p9S7MQZC\n",
      "\n",
      "16) : Some good stuff here that had escaped my attention. https://t.co/MySNhm6VCp\n",
      "\n",
      "17) As of today, Google is the 1st major company to eliminate our entire carbon legacy, including before we became carbon neutral in 2007. We’re also proud that by 2030, we aim to operate on 24/7 carbon-free energy in our data centers &amp; campuses worldwide. \n",
      "https://t.co/j9HlkWrB2X\n",
      "\n",
      "18) Nonprofits &amp; academic institutions around the world are using AI + data analytics to better understand COVID-19 and its impact on communities. To support this work,  is giving $8.5M+ to 31 orgs working to help mitigate the effects of the pandemic https://t.co/CGdOq5NNqQ\n",
      "\n",
      "19) : So excited to finally get this fresh new UI out for   Finance. Team's worked really hard on this and we have a lot more…\n",
      "\n",
      "20) : Google’s new ‘Verified Calls’ feature will tell you why a business is calling you: https://t.co/XaiEdO3n93\n",
      "\n",
      "21) Excited that Android 11 starts rolling out today, with better ways to communicate, new ways to manage your devices &amp; media, and even more control over your data and privacy.  https://t.co/KSFYYPgajr\n",
      "\n",
      "22) Working together, the  and  teams are using AI to improve the accuracy of real time ETAs in Maps by up to 50% in cities across the globe https://t.co/Zj3pWKZpRR\n",
      "\n",
      "23) As severe flooding continues to impact millions in South Asia, we’re expanding our AI-powered flood forecasting to include all of India &amp; adding coverage in Bangladesh, providing greater detail on timing + water depths in alerts in 9 new local languages.\n",
      "https://t.co/G5i5zPtgAD\n",
      "\n",
      "24) Proud to share  team’s recent advances in quantum chemistry: the largest quantum computation of chemistry to date &amp; the first time a quantum computer has been used to model a chemical reaction pathway -- results published in  today https://t.co/THmXRXYeFH\n",
      "\n",
      "25) Thrilled to have Halimah as our new general counsel - she's a longtime Googler with a wealth of experience working with teams across the company. Look forward to continue working with her in her new role! https://t.co/fjAFcK0wb3\n",
      "\n",
      "26) : If you just want a good, simple phone for a great price, you can't really do better than the Pixel 4a. \n",
      "\n",
      "https://t.co/Wi…\n",
      "\n",
      "27) : Just like that, Google has announced the long-rumored Pixel 4a. We have 's  review live on the site. We don't…\n",
      "\n",
      "28) : The Google Pixel 4A is finally here, and it was well worth the wait. It's an improvement in every way over last year's…\n",
      "\n",
      "29) : Some camera samples from Pixel 4a! It's easily my favorite phone at this $350 price, and the camera is a huge reason why https:/…\n",
      "\n",
      "30) Excited to share the new Pixel 4a - with the same great camera and security, new Assistant languages, and all the helpful features of GoogleAI on Pixel. MadebyGoogle https://t.co/TdtxuHo4pQ\n",
      "\n",
      "31) Merci ! Looking forward to 's collaboration with  to help deliver new services and applications to consumers and businesses, while paving the way for advanced cloud and edge computing services for enterprises across Europe. https://t.co/OXSfi2SIvd\n",
      "\n",
      "32) Building a more helpful Google for everyone means ensuring that anyone can access and enjoy our products. As we mark the 30th anniversary of the Americans with Disabilities Act, we remain committed to working alongside the disability community to make that a reality. ADA30\n",
      "\n",
      "33) The word that comes to  my mind when I think of the life of  is fearless. So much courage. What a life and impact. RIP\n",
      "\n",
      "34) : We’ve improved &lt;img&gt; lazy-loading in Chrome! https://t.co/zx8sf7I86L The new thresholds for when we load &lt;img loading=lazy&gt;…\n",
      "\n",
      "35) Everyone should have access to the internet. Proud to partner with  to increase access for the hundreds of millions in India who don’t own a smartphone with our 1st investment of $4.5B from the GoogleForIndia Digitization Fund.\n",
      "https://t.co/1fP8iBZQfm\n",
      "\n",
      "36) Now more than ever, work isn’t defined by a physical place--it can happen anywhere. At today’s GoogleCloudNext ’20: OnAir kickoff, we share how technology is helping businesses adapt to the future of work. https://t.co/FVsPD39dtv\n",
      "\n",
      "37) We’re announcing a new suite of Google Career Certificates that will help Americans get qualifications in high-paying high-growth job fields, along with 100,000 need-based scholarships, apprenticeships &amp; more--no college degree required. GrowWithGoogle \n",
      "https://t.co/DeneARY4p3\n",
      "\n",
      "38) Today at GoogleForIndia we announced a new $10B digitization fund to help accelerate India’s digital economy. We’re proud to support PM ’s vision for Digital India - many thanks to Minister  &amp; Minister  for joining us. https://t.co/H0EUFYSD1q\n",
      "\n",
      "39)  Thank you for your time, PM  - very optimistic about your vision for Digital India and excited to continue our work towards it. Later today we’ll share our next steps on that journey at GoogleForIndia.\n",
      "\n",
      "40) Yep, glad cricket is back!🏏🏏🏏\n",
      "https://t.co/7H5nuE0Wc4\n",
      "\n",
      "41) Happy 15th birthday to , still the world’s biggest publicly accessible repository of geographic imagery. It’s been inspiring to see how people have used it to explore, understand and contribute to our world.\n",
      "https://t.co/6Pucrjm1kr\n",
      "\n",
      "42) Google is proud to be a partner in Italy's economic recovery. We're investing more than $900M over 5 years to help transform Italian businesses large and small, including the launch of two  regions in partnership with _Official. \n",
      "https://t.co/DiVB6sqqNB\n",
      "\n",
      "43) As countries start to re-open, we’re dedicated to helping people and businesses recover faster - starting with new commitments in Europe, the Middle East and Africa to help 10M people learn new skills, find jobs and grow their businesses. \n",
      "https://t.co/thczhOC9dL\n",
      "\n",
      "44) Happy to see the new redesign of  rolling out over the next week - especially map view:)\n",
      "https://t.co/8hwCcZV5HY\n",
      "\n",
      "45) : Some nice new tools to make it easier to assess the privacy characteristics of different ML models, and to, for example, eval…\n",
      "\n",
      "46) Privacy is at the heart of everything we do, and we’ll keep challenging ourselves to do more with less. As a next step, today we’re changing our data retention practices to make auto-delete the default for our core activity settings. \n",
      "https://t.co/4hW0L23iZV\n",
      "\n",
      "47) Excited to announce the launch of our new Google Cloud region in Jakarta. Look forward to seeing how Indonesian enterprises and start-ups will use  to build new businesses and unleash opportunities for people around the world.  https://t.co/PAskaoOqbW\n",
      "\n",
      "48) Many thanks to guest artist _ &amp; narrator  for today’s beautiful and moving video Doodle on our US homepage commemorating Juneteenth and the 155th anniversary of the end of slavery in America.\n",
      "https://t.co/Kf1Rkz5nhf https://t.co/GZ8QiPggsg\n",
      "\n",
      "49) Really appreciated  for the thoughtful and candid conversation on an important topic https://t.co/1GwdO10DRZ\n",
      "\n",
      "50) Heartened by today's SCOTUS decision on the DACA program. For millions of immigrants, America represents a land of opportunity; for the many Dreamers, it’s the only home they’ve known. Today is a victory for us all.\n",
      "\n",
      "51) Today we are announcing a set of concrete commitments to build sustainable equity for Google’s Black community, and make our products and programs helpful in the moments that matter most to Black users.\n",
      "https://t.co/6qcDBHOU61\n",
      "\n",
      "52) More about how we're supporting  on their important work around crisis intervention and suicide prevention for LGBTQ+ youth https://t.co/LufwxKysVs\n",
      "\n",
      "53) Today’s SCOTUS decision is another step forward in the fight for equality for all LGBTQ+ people. We stand with our LGBTQ+ employees, including our trans community - this Pride, we’re proud to support orgs like  who continue to drive change. \n",
      "https://t.co/bp4SOg2Dva\n",
      "\n",
      "54) An important update from  on how  is using its platform to amplify Black voices &amp; perspectives, incl. a $100M fund for Black creators &amp; artists, a live stream fundraising event benefiting _org on 6/13, and more https://t.co/xu8SwYbBGd\n",
      "\n",
      "55) Proud that  is partnering with  to launch a new cloud region in Spain and accelerate the digital transformation of Spanish businesses. Gracias  for the ongoing collaboration. \n",
      "https://t.co/GQdlTdwLO4\n",
      "\n",
      "56) Also excited that in Android11 we're making improvements on Voice Access, an important accessibility experience https://t.co/K4ILlRiu4S\n",
      "\n",
      "57) Android 11 is now available in beta, with a focus on people, controls and safety. https://t.co/CrTkzqAKJM\n",
      "\n",
      "58) : From our first meeting in 2012 to now, we've been inspired by ’s approach to direct cash transfers. Together, o…\n",
      "\n",
      "59) Thanks, good to catch up with  as always. https://t.co/AgwPT6EO9z\n",
      "\n",
      "60) We’re introducing new accessibility tools including more prominent wheelchair accessibility info in , one-step shortcuts for everyday tasks in , new features in Live Transcribe and more. GlobalAccessibilityAwarenessDay \n",
      "https://t.co/IQrbDzi5TL https://t.co/Tmg8PPdO4y\n",
      "\n",
      "61) At first I didn't believe it but:) https://t.co/ToSK1GmUT4\n",
      "\n",
      "62) Happy 10th birthday BigQuery! What started as an internal Google product is now serving petabyte-scale data needs for businesses all around the world. Congrats to the team and many thanks to our developers and customers for their support. https://t.co/3sOnckdy3T\n",
      "\n",
      "63) The COVID19 Exposure Notification technology we built jointly with  is now available to public health agencies in support of their contact tracing efforts. Our goal is to empower them with another tool to help combat the virus while protecting user privacy.\n",
      "\n",
      "64) We’re rolling out new tools + redesigned privacy &amp; security settings in  on desktop to help you better control your safety on the web: a safety check tool, 3rd party cookie controls in Incognito mode, Enhanced Safe Browsing, Secure DNS &amp; more https://t.co/pMFgRp6yMB\n",
      "\n",
      "65) Thanks  and  for having me on the Vergecast - really appreciated our conversation, RCS included:) https://t.co/QWcnB7W637\n",
      "\n",
      "66) We've re-engineered Google Meet to make secure video meetings free for everyone, with helpful features powered by GoogleAI like live captions and low-light mode, available now at https://t.co/LBamANQz98\n",
      "https://t.co/85IVc78W3n\n",
      "\n",
      "67) : . has teamed up with  to use the latest in video and audio technologies to monitor some of the…\n",
      "\n",
      "68) Happy Mother's Day! Today's interactive doodle lets you create your own digital art to celebrate and send to mom:) https://t.co/suMYE7hQfy https://t.co/zUmqmSXjA4\n",
      "\n",
      "69) : Enjoyed talking with  today on 's approach and commitment to the global COVID19 response. Hear the ful…\n",
      "\n",
      "70) In times of crisis, our mental health is as important as our physical health. To support MentalHealthAwarenessMonth in the US, we’ll be sharing tips from  on managing stress during COVID19 on our homepage &amp; in search results. https://t.co/pGYglA74Vj https://t.co/u0oLptPtsM\n",
      "\n",
      "71) Happy to share that Read Along, our app to help kids grow their reading skills is now available in 9 languages across 180+ countries. Powered by GoogleAI text-to-speech &amp; speech recognition, it gives verbal &amp; visual feedback as kids read stories out loud. https://t.co/MqVfkxspUA\n",
      "\n",
      "72) We're launching some new features in Google Lens to help you be even more productive, including copying written text to send straight to your computer. GoogleAI https://t.co/pUHEvBMRfS\n",
      "\n",
      "73) : We  are excited to be an initial member of . Mojaloop OpenSource software will help drive financial inclusio…\n",
      "\n",
      "74) Today  is pledging another $50M to COVID19 response, for a total of $100M to date. We’re focused on areas where we can have the greatest impact, including health and science, economic relief and recovery, and distance learning.\n",
      "https://t.co/68wShUVOaI\n",
      "\n",
      "75) : More grateful than ever for the teachers in my life, including my dad and sisters. Proud of , ,…\n",
      "\n"
     ]
    }
   ],
   "source": [
    "j=1\n",
    "sorted_tweets=df.sort_values(by=['Polarity'])\n",
    "for i in range (0, sorted_tweets.shape[0]):\n",
    "    if (sorted_tweets['Analysis'][i]== 'Positive'):\n",
    "        print(str(j) + ') ' +sorted_tweets['Tweets'][i])\n",
    "        print () \n",
    "        j=j+1"
   ]
  },
  {
   "cell_type": "code",
   "execution_count": 28,
   "metadata": {},
   "outputs": [],
   "source": [
    "## Negative tweets"
   ]
  },
  {
   "cell_type": "code",
   "execution_count": 29,
   "metadata": {},
   "outputs": [
    {
     "name": "stdout",
     "output_type": "stream",
     "text": [
      "1) : As has been noticed, several Google services were down for some users from 6:00 to 6:23 p.m. PDT. A pool of servers that rout…\n",
      "\n",
      "2) : To help slow the spread of COVID-19, we are reminding people of the steps they can take to protect themselves and each other. h…\n",
      "\n",
      "3) : Starting today, our friends at  are matching donations to projects from Black and Latinx teachers, and projects…\n",
      "\n",
      "4) Immigration has contributed immensely to America’s economic success, making it a global leader in tech, and also Google the company it is today. Disappointed by today’s proclamation - we’ll continue to stand with immigrants and work to expand opportunity for all.\n",
      "\n",
      "5)  So sorry for your loss\n",
      "\n",
      "6) : DearClassof2020 As  says it’s been a hard year, but you’re showing that your generation will turn outrage into act…\n",
      "\n",
      "7) Today on US Google &amp; YouTube homepages we share our support for racial equality in solidarity with the Black community and in memory of George Floyd, Breonna Taylor, Ahmaud Arbery &amp; others who don’t have a voice. For those feeling grief, anger, sadness &amp; fear, you are not alone. https://t.co/JbPCG3wfQW\n",
      "\n",
      "8) Thank you to teachers everywhere working tirelessly to support their students in these tough times &amp; always. This TeacherAppreciationWeek  is providing a grant to  to help support teachers &amp; students in underserved communities. https://t.co/An0IsAek73 https://t.co/AgDV27gsgj\n",
      "\n"
     ]
    }
   ],
   "source": [
    "j=1\n",
    "sorted_tweets=df.sort_values(by=['Polarity'], ascending = 'False')\n",
    "for i in range (0, sorted_tweets.shape[0]):\n",
    "    if (sorted_tweets['Analysis'][i]== 'Negative'):\n",
    "        print(str(j) + ') ' +sorted_tweets['Tweets'][i])\n",
    "        print () \n",
    "        j=j+1"
   ]
  },
  {
   "cell_type": "code",
   "execution_count": 30,
   "metadata": {},
   "outputs": [],
   "source": [
    "##Plot the polarity & subjectivity"
   ]
  },
  {
   "cell_type": "code",
   "execution_count": 31,
   "metadata": {},
   "outputs": [
    {
     "data": {
      "image/png": "[encoded data removed]",
      "text/plain": [
       "<Figure size 576x432 with 1 Axes>"
      ]
     },
     "metadata": {
      "needs_background": "light"
     },
     "output_type": "display_data"
    }
   ],
   "source": [
    "plt.figure(figsize = (8,6))\n",
    "for i in range (0, df.shape[0]):\n",
    "    plt.scatter(df['Polarity'][i],df['Subjectivity'][i],color='Green')\n",
    "plt.title('Sentiment Analysis')\n",
    "plt.xlabel('Polarity')\n",
    "plt.ylabel('Subjectivity')\n",
    "plt.show()"
   ]
  },
  {
   "cell_type": "code",
   "execution_count": 32,
   "metadata": {},
   "outputs": [
    {
     "data": {
      "text/plain": [
       "75.0"
      ]
     },
     "execution_count": 32,
     "metadata": {},
     "output_type": "execute_result"
    }
   ],
   "source": [
    "##Get the percentage of tweets\n",
    "per_tweets = df[df.Analysis == 'Positive']\n",
    "per_tweets = per_tweets['Tweets']\n",
    "per_tweets\n",
    "round(per_tweets.shape[0]/df.shape[0]*100, 1)"
   ]
  },
  {
   "cell_type": "code",
   "execution_count": 33,
   "metadata": {},
   "outputs": [
    {
     "data": {
      "text/plain": [
       "8.0"
      ]
     },
     "execution_count": 33,
     "metadata": {},
     "output_type": "execute_result"
    }
   ],
   "source": [
    "ne_tweets = df[df.Analysis == 'Negative']\n",
    "ne_tweets = ne_tweets['Tweets']\n",
    "round(ne_tweets.shape[0]/df.shape[0]*100, 1)"
   ]
  },
  {
   "cell_type": "code",
   "execution_count": 34,
   "metadata": {},
   "outputs": [
    {
     "data": {
      "text/plain": [
       "Positive    75\n",
       "Neutral     17\n",
       "Negative     8\n",
       "Name: Analysis, dtype: int64"
      ]
     },
     "execution_count": 34,
     "metadata": {},
     "output_type": "execute_result"
    }
   ],
   "source": [
    "df['Analysis'].value_counts()"
   ]
  },
  {
   "cell_type": "code",
   "execution_count": 35,
   "metadata": {},
   "outputs": [],
   "source": [
    "## Plot"
   ]
  },
  {
   "cell_type": "code",
   "execution_count": 36,
   "metadata": {},
   "outputs": [
    {
     "data": {
      "image/png": "[encoded data removed]",
      "text/plain": [
       "<Figure size 432x288 with 1 Axes>"
      ]
     },
     "metadata": {
      "needs_background": "light"
     },
     "output_type": "display_data"
    }
   ],
   "source": [
    "plt.title('Sentiment Analysis')\n",
    "plt.xlabel('Sentiment')\n",
    "plt.ylabel('Counts')\n",
    "df['Analysis'].value_counts().plot(kind = 'bar', color = 'Purple')\n",
    "plt.show()"
   ]
  }
 ],
 "metadata": {
  "kernelspec": {
   "display_name": "Python 3",
   "language": "python",
   "name": "python3"
  },
  "language_info": {
   "codemirror_mode": {
    "name": "ipython",
    "version": 3
   },
   "file_extension": ".py",
   "mimetype": "text/x-python",
   "name": "python",
   "nbconvert_exporter": "python",
   "pygments_lexer": "ipython3",
   "version": "3.7.4"
  }
 },
 "nbformat": 4,
 "nbformat_minor": 4
}
